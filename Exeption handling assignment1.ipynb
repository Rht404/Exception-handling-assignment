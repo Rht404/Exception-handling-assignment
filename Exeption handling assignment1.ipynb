{
 "cells": [
  {
   "cell_type": "markdown",
   "id": "b073be5d-d4d4-422e-9479-5156f758f5ec",
   "metadata": {},
   "source": [
    "1.What is an Exception in python? Write the difference between Exception and syntax error\n",
    "\n",
    "Ans-\n",
    "An exception is an event that occurs during the execution of a pro-\n",
    "gram that disrupts the normal flow of the program's instructions. Exceptions are typically caused by errors or unexpected conditions that arise while the program is running. Python provides a way to handle these exceptions gracefully, allowing ua to write code that can recover from errors and continue running without crashing.\n",
    "\n",
    "Exceptions can be caused by a variety of reasons, such as trying to perform an invalid operation (like dividing by zero), attempting to access an element in a list that doesn't exist, or encountering issues when working with files or network connections.\n",
    "\n",
    "Syntax errors- are errors that occur when the Python interpreter encounters code that doesn't follow the correct syntax rules of the language. These errors are detected before the program even starts running, during the parsing phase. Syntax errors prevent the interpreter from understanding the code, and as a result, the program won't execute at all until the syntax issues are fixed.\n",
    "\n",
    "differences between exceptions and syntax errors:\n",
    "\n",
    "Cause and Occurrence:\n",
    "Syntax Error: Occurs due to incorrect syntax in the code. Detected during the parsing phase before the program starts running.\n",
    "Exception: Occurs during the program's runtime due to unexpected conditions, such as invalid input or operations, file I/O errors, etc.\n",
    "\n",
    "Detection:\n",
    "Syntax Error: Detected by the Python interpreter during the parsing phase.\n",
    "Exception: Detected at runtime when the problematic code is executed.\n",
    "\n",
    "Impact on Execution:\n",
    "Syntax Error: Prevents the program from running at all until the syntax errors are fixed.\n",
    "Exception: Disrupts the normal flow of the program, but can be handled using exception handling mechanisms to allow the program to continue running.\n",
    "\n",
    "Handling:\n",
    "Syntax Error: Cannot be handled using try-except blocks; they need to be fixed in the code itself.\n",
    "Exception: Can be caught and handled using try-except blocks, allowing the program to take alternative actions when exceptions occur."
   ]
  },
  {
   "cell_type": "markdown",
   "id": "3b39c346-6ae2-4cb7-82dc-d797cf84ae8f",
   "metadata": {},
   "source": [
    "2.What happens when an exception is not handled? Explain with an example.\n",
    "\n",
    "Ans-When an exception is not handled in a Python program, it leads to the termination of the program's normal execution flow. The program will stop running, and an error message, along with a traceback, will be displayed, indicating the type of exception that occurred and where it happened in the code."
   ]
  },
  {
   "cell_type": "code",
   "execution_count": 2,
   "id": "39ac218c-8867-427d-9650-ef1e84f32f02",
   "metadata": {},
   "outputs": [
    {
     "name": "stdout",
     "output_type": "stream",
     "text": [
      "An exception occurred\n",
      "Program continues\n"
     ]
    }
   ],
   "source": [
    "'''Example of Q2'''\n",
    "try:\n",
    "    num = int(\"abc\")        # This line will raise a ValueError\n",
    "except:\n",
    "    print(\"An exception occurred\")\n",
    "    \n",
    "print(\"Program continues\")  # This line won't be reached due to the unhandled exception\n",
    "\n",
    "    "
   ]
  },
  {
   "cell_type": "markdown",
   "id": "51686e51-f0fe-4007-9a24-132d3d58ef05",
   "metadata": {},
   "source": [
    "3.Which Python statements are used to catch and handle exceptions? Explain with an example\n",
    "\n",
    "Ans-In Python, exceptions are errors that occur during the execution of a program. To catch and handle these exceptions, we use try and except blocks. The try block contains the code that might raise an exception, and the except block handles the exception if it occurs."
   ]
  },
  {
   "cell_type": "code",
   "execution_count": null,
   "id": "b8066408-00e2-412e-b9dc-ceef7e728fb3",
   "metadata": {},
   "outputs": [],
   "source": [
    "'''Example of Q3'''\n",
    "try:\n",
    "    # Code that might raise an exception\n",
    "    # ...\n",
    "except SomeExceptionType:\n",
    "    # Code to handle the exception\n",
    "    # ...\n"
   ]
  },
  {
   "cell_type": "code",
   "execution_count": 4,
   "id": "42f200a9-c2e6-4b15-b3ad-77695e61809d",
   "metadata": {},
   "outputs": [
    {
     "name": "stdout",
     "output_type": "stream",
     "text": [
      "division by zero\n"
     ]
    }
   ],
   "source": [
    "try:\n",
    "    num=1/0      #ZeroDivisionError occurs\n",
    "except Exception as e:  #handled by superclass 'exception' \n",
    "    print(e)     #gives division by zero error"
   ]
  },
  {
   "cell_type": "markdown",
   "id": "37d772bd-ae8b-463c-a26c-e08ba52d0698",
   "metadata": {},
   "source": [
    "4.explain with an example:\n",
    "    \n",
    "a.try and else\n",
    "b.finally\n",
    "c.raise\n",
    "\n",
    "Ans-\n",
    "try and else: In Python, we use the else block along with the try block to specify code that should be executed if no exceptions are raised. This is useful when we want to perform certain actions only if the try block's code executes successfully.\n",
    "\n",
    "finally: The finally block is used to specify code that should be executed regardless of whether an exception was raised or not. This block is commonly used to clean up resources or perform actions that should happen regardless of the outcome of the try block.\n",
    "\n",
    "raise: The raise statement is used to explicitly raise an exception within our code. This is useful when we want to create custom exceptions or re-raise existing exceptions with additional context."
   ]
  },
  {
   "cell_type": "code",
   "execution_count": 6,
   "id": "2f42624d-5ed1-499e-b213-9ad6e360652a",
   "metadata": {},
   "outputs": [
    {
     "name": "stdout",
     "output_type": "stream",
     "text": [
      "division by zero\n",
      "it gives division by zero errors\n"
     ]
    }
   ],
   "source": [
    "'''a. try and else '''\n",
    "try:\n",
    "    result=1/0\n",
    "except ZeroDivisionError as e:\n",
    "    print(e)\n",
    "    print(\"it gives division by zero errors\")\n",
    "else:\n",
    "    print(\"it will execute when there is no errors in code\")\n"
   ]
  },
  {
   "cell_type": "code",
   "execution_count": 8,
   "id": "50617abf-153c-43d8-b820-65c6984f634c",
   "metadata": {},
   "outputs": [
    {
     "name": "stdout",
     "output_type": "stream",
     "text": [
      "it will be executed in both case if error occures in try block or not\n"
     ]
    },
    {
     "ename": "NameError",
     "evalue": "name 'error' is not defined",
     "output_type": "error",
     "traceback": [
      "\u001b[0;31m---------------------------------------------------------------------------\u001b[0m",
      "\u001b[0;31mNameError\u001b[0m                                 Traceback (most recent call last)",
      "Cell \u001b[0;32mIn[8], line 3\u001b[0m\n\u001b[1;32m      2\u001b[0m \u001b[38;5;28;01mtry\u001b[39;00m:\n\u001b[0;32m----> 3\u001b[0m     \u001b[38;5;28mprint\u001b[39m(\u001b[43mrohit\u001b[49m)\n\u001b[1;32m      4\u001b[0m \u001b[38;5;28;01mexcept\u001b[39;00m error:\n",
      "\u001b[0;31mNameError\u001b[0m: name 'rohit' is not defined",
      "\nDuring handling of the above exception, another exception occurred:\n",
      "\u001b[0;31mNameError\u001b[0m                                 Traceback (most recent call last)",
      "Cell \u001b[0;32mIn[8], line 4\u001b[0m\n\u001b[1;32m      2\u001b[0m \u001b[38;5;28;01mtry\u001b[39;00m:\n\u001b[1;32m      3\u001b[0m     \u001b[38;5;28mprint\u001b[39m(rohit)\n\u001b[0;32m----> 4\u001b[0m \u001b[38;5;28;01mexcept\u001b[39;00m \u001b[43merror\u001b[49m:\n\u001b[1;32m      5\u001b[0m     \u001b[38;5;28mprint\u001b[39m(error)\n\u001b[1;32m      6\u001b[0m \u001b[38;5;28;01mfinally\u001b[39;00m:\n",
      "\u001b[0;31mNameError\u001b[0m: name 'error' is not defined"
     ]
    }
   ],
   "source": [
    "'''b.finally'''    #this is the example when error occures in try block\n",
    "try:\n",
    "    print(rohit)\n",
    "except error:\n",
    "    print(error)\n",
    "finally:\n",
    "    print(\"it will be executed in both case if error occures in try block or not\")"
   ]
  },
  {
   "cell_type": "code",
   "execution_count": 9,
   "id": "3d4df67a-2fc2-4e73-98f7-ab763f617e1c",
   "metadata": {},
   "outputs": [
    {
     "name": "stdout",
     "output_type": "stream",
     "text": [
      "123\n",
      "it will be executed in both case if error occures in try block or not\n"
     ]
    }
   ],
   "source": [
    "'''b.finally'''    #this is the example when error does not occure in try block\n",
    "try:\n",
    "    print(123)\n",
    "except error:\n",
    "    print(error)\n",
    "finally:\n",
    "    print(\"it will be executed in both case if error occures in try block or not\")"
   ]
  },
  {
   "cell_type": "code",
   "execution_count": 16,
   "id": "9e73177a-d08f-4474-8523-af324cc2048e",
   "metadata": {},
   "outputs": [
    {
     "name": "stdin",
     "output_type": "stream",
     "text": [
      "Enter your age:  -123\n"
     ]
    },
    {
     "name": "stdout",
     "output_type": "stream",
     "text": [
      "Error: Age cannot be negative.\n"
     ]
    }
   ],
   "source": [
    "''' c.raise'''\n",
    "def check_age(age):\n",
    "    if age < 0:\n",
    "        raise ValueError(\"Age cannot be negative.\")\n",
    "    elif age < 18:\n",
    "        raise ValueError(\"You must be at least 18 years old.\")\n",
    "\n",
    "try:\n",
    "    user_age = int(input(\"Enter your age: \"))\n",
    "    check_age(user_age)\n",
    "    print(\"Access granted.\")\n",
    "except ValueError as ve:\n",
    "    print(\"Error:\", ve)\n"
   ]
  },
  {
   "cell_type": "markdown",
   "id": "d638dde7-5408-4078-9933-3c50f8053969",
   "metadata": {},
   "source": [
    "5.What are Custom Exception in python ? Why do we need Custom Exception ? Explain with an example.\n",
    "\n",
    "Ans-Custom exceptions in Python are user-defined exceptions that allows us to create our own specific exception types for our code. While Python provides a wide range of built-in exception types, creating custom exceptions can make our code more organized, maintainable, and understandable by providing more context-specific error handling.\n",
    "\n",
    "here's is why we need custom exceptions:\n",
    "\n",
    "1.Better Code Organization: By creating custom exceptions, we can group related error cases together, making it easier to handle different exceptional scenarios in a structured manner.\n",
    "\n",
    "2.Improved Readability: Custom exceptions with meaningful names can make our code more self-explanatory and easier to understand, especially when handling complex scenarios.\n",
    "\n",
    "3.Clearer Error Reporting: Custom exceptions can carry additional information or context specific to your application or module, leading to more informative error messages when exceptions occur.\n",
    "\n",
    "4.Centralized Exception Handling: When different parts of our codebase need to raise similar types of exceptions, using custom exceptions allows us to centralize the exception handling logic.\n"
   ]
  },
  {
   "cell_type": "code",
   "execution_count": 3,
   "id": "37d72f0b-c14b-4d7c-8b5a-bd634fa1d50f",
   "metadata": {},
   "outputs": [
    {
     "name": "stdin",
     "output_type": "stream",
     "text": [
      "Enter the amount:  2000\n"
     ]
    },
    {
     "name": "stdout",
     "output_type": "stream",
     "text": [
      "Available balance is 1000\n"
     ]
    }
   ],
   "source": [
    "''' Example of Quesion5'''\n",
    "class withdraw_error(Exception):\n",
    "    def __init__(self,amount,balance):\n",
    "        self.amount=amount\n",
    "        self.balance=balance\n",
    "        super().__init__(\"Entered amount is the more than the available balance\")\n",
    "\n",
    "def withdraw(amount,balance):\n",
    "    if amount>balance:\n",
    "        raise withdraw_error(amount,balance)\n",
    "    else:\n",
    "        return f\"Available balance is {balance-amount}\"\n",
    "    \n",
    "\n",
    "\n",
    "try :\n",
    "    amount=int(input(\"Enter the amount: \"))\n",
    "    balance=3000\n",
    "    new_balance=withdraw(amount,balance)\n",
    "    print(new_balance)\n",
    "    \n",
    "except withdraw_error as e:\n",
    "    print(e)\n",
    "\n",
    "\n"
   ]
  },
  {
   "cell_type": "code",
   "execution_count": 6,
   "id": "e6bebc84-1d7d-43fc-b065-ff7d7a80f706",
   "metadata": {},
   "outputs": [
    {
     "name": "stdin",
     "output_type": "stream",
     "text": [
      "Enter the email:  rohit@gmail.com\n"
     ]
    },
    {
     "name": "stdout",
     "output_type": "stream",
     "text": [
      "This is valid email.\n"
     ]
    }
   ],
   "source": [
    "'''6.create a custom exception class.Use this code to handle an exception.'''\n",
    "\n",
    "class InvalidEmailError(Exception):\n",
    "    \"\"\"Custom exception for invalid email addresses.\"\"\"\n",
    "    def __init__(self, email):\n",
    "        self.email = email\n",
    "        super().__init__(f\"Invalid email address: {email}\")\n",
    "\n",
    "def send_email(to_email, subject, message):\n",
    "    if \"@\" not in to_email:\n",
    "        raise InvalidEmailError(to_email)\n",
    "    else:\n",
    "        return \"This is valid email.\"\n",
    "    # Code to send email\n",
    "\n",
    "try:\n",
    "    recipient_email =input(\"Enter the email: \")\n",
    "    response=send_email(recipient_email, \"Hello\", \"This is a test email.\")\n",
    "    print(response)\n",
    "except InvalidEmailError as e:\n",
    "    print(\"Email sending failed:\", e)\n",
    "\n",
    "\n"
   ]
  },
  {
   "cell_type": "code",
   "execution_count": null,
   "id": "79fe3080-b20b-4575-87ed-f05ed1948044",
   "metadata": {},
   "outputs": [],
   "source": []
  }
 ],
 "metadata": {
  "kernelspec": {
   "display_name": "Python 3 (ipykernel)",
   "language": "python",
   "name": "python3"
  },
  "language_info": {
   "codemirror_mode": {
    "name": "ipython",
    "version": 3
   },
   "file_extension": ".py",
   "mimetype": "text/x-python",
   "name": "python",
   "nbconvert_exporter": "python",
   "pygments_lexer": "ipython3",
   "version": "3.10.8"
  }
 },
 "nbformat": 4,
 "nbformat_minor": 5
}
