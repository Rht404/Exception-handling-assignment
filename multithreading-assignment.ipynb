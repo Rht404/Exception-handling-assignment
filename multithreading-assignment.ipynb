{
 "cells": [
  {
   "cell_type": "markdown",
   "id": "c11506a9-c569-45c4-bc19-a4ca46c4d59a",
   "metadata": {},
   "source": [
    "1. What is multithreading in python? why is it used? Name the module used to handle threads in python\n",
    "Ans-Multithreading in Python refers to the capability of a program to execute multiple threads concurrently, allowing it to perform multiple tasks in parallel. A thread is the smallest unit of execution within a program, and multithreading enables a program to utilize multiple threads to perform tasks simultaneously. This can lead to improved performance and better resource utilization, especially in situations where the program needs to perform I/O-bound tasks (such as reading/writing files or making network requests).\n",
    "\n",
    "Python's Global Interpreter Lock (GIL) can limit the effectiveness of multithreading when it comes to CPU-bound tasks (tasks that require a lot of processing power) because only one thread can execute Python bytecode at a time in a single process due to the GIL. However, for I/O-bound tasks, where a lot of time is spent waiting for external resources, multithreading can still provide benefits.\n",
    "\n",
    "The primary module used to handle threads in Python is the 'threading module'. This module provides a way to create, manage, and synchronize threads within a program. It provides a high-level interface for working with threads and includes functions and classes to create, start, stop, and manage threads"
   ]
  },
  {
   "cell_type": "markdown",
   "id": "35a5f51d-6c83-414d-b270-ac81172dce92",
   "metadata": {},
   "source": [
    "2.Why threading module used? write the use of the following functions\n",
    " \n",
    "1.activeCount\n",
    "2.currentThread\n",
    "3.enumerate\n",
    "\n",
    "Ans-The threading module in Python is used to work with threads, which are smaller units of execution that allow a program to perform multiple tasks concurrently. This module provides a high-level interface for creating, managing, and synchronizing threads within a program.\n",
    "\n",
    "activeCount(): This function is used to return the number of Thread objects currently alive. It includes both started and running threads. It can be useful for monitoring the number of threads in our program.\n",
    "\n",
    "currentThread(): This function returns the current Thread object, corresponding to the caller's thread. It's often used to identify the currently executing thread and obtain information about it.\n",
    "\n",
    "enumerate(): This function returns a list of all Thread objects currently alive. It includes both started and running threads. It can be useful for obtaining a list of threads and their associated information."
   ]
  },
  {
   "cell_type": "code",
   "execution_count": 5,
   "id": "cdd7bdda-b0eb-4bc4-98a2-02e2ac0d91fa",
   "metadata": {},
   "outputs": [
    {
     "name": "stdout",
     "output_type": "stream",
     "text": [
      "Threading working\n",
      "Threading working\n",
      "No of active threads 8\n"
     ]
    }
   ],
   "source": [
    "'''Example of Q2(activeCount())'''\n",
    "import threading\n",
    "\n",
    "def worker():\n",
    "    print(\"Threading working\")\n",
    "    \n",
    "thread1=threading.Thread(target=worker)\n",
    "thread2=threading.Thread(target=worker)\n",
    "\n",
    "thread1.start()\n",
    "thread2.start()\n",
    "\n",
    "print(\"No of active threads\",threading.active_count())\n",
    "\n"
   ]
  },
  {
   "cell_type": "code",
   "execution_count": 1,
   "id": "d7e26bda-52ad-46c9-a12a-5d74d05069fc",
   "metadata": {},
   "outputs": [
    {
     "name": "stdout",
     "output_type": "stream",
     "text": [
      "current thread name: Thread 1\n",
      "current thread name: Thread 2\n"
     ]
    }
   ],
   "source": [
    "'''Example of Q2(currentThread())'''\n",
    "import threading\n",
    "def print_thread_name():\n",
    "    current_thread=threading.current_thread()\n",
    "    print(\"current thread name:\",current_thread.name)\n",
    "\n",
    "thread1 = threading.Thread(target=print_thread_name, name=\"Thread 1\")\n",
    "thread2 = threading.Thread(target=print_thread_name, name=\"Thread 2\")\n",
    "\n",
    "thread1.start()\n",
    "thread2.start()"
   ]
  },
  {
   "cell_type": "code",
   "execution_count": 2,
   "id": "fa6df551-7f6e-4661-be6f-04bb6b0160c3",
   "metadata": {},
   "outputs": [
    {
     "name": "stdout",
     "output_type": "stream",
     "text": [
      "Thread working\n",
      "Thread working\n",
      "Thread name: MainThread\n",
      "Thread name: IOPub\n",
      "Thread name: Heartbeat\n",
      "Thread name: Thread-3 (_watch_pipe_fd)\n",
      "Thread name: Thread-4 (_watch_pipe_fd)\n",
      "Thread name: Control\n",
      "Thread name: IPythonHistorySavingThread\n",
      "Thread name: Thread-2\n"
     ]
    }
   ],
   "source": [
    "'''Example of Q2(enumerate())'''\n",
    "    \n",
    "import threading\n",
    "\n",
    "def worker():\n",
    "    print(\"Thread working\")\n",
    "\n",
    "thread1 = threading.Thread(target=worker)\n",
    "thread2 = threading.Thread(target=worker)\n",
    "\n",
    "thread1.start()\n",
    "thread2.start()\n",
    "\n",
    "threads = threading.enumerate()\n",
    "for thread in threads:\n",
    "    print(\"Thread name:\", thread.name)\n"
   ]
  },
  {
   "cell_type": "markdown",
   "id": "87344052-952b-4db2-b5aa-a2a006234a6f",
   "metadata": {},
   "source": [
    "3. Explain the following functions\n",
    "\n",
    "1.run\n",
    "2.start\n",
    "3.join\n",
    "4.isAlive\n",
    "\n",
    "Ans-run(): This method is not directly used with the threading module. Instead, it's a method that we can override in a subclass of the Thread class to define the behavior that the thread should execute. When we create a new thread by creating an instance of the Thread class and passing a target function, the run() method of the target function will be executed when the thread is started using the start() method.\n",
    "\n",
    "start(): This method is used to start the execution of a thread. When we call the start() method on a Thread object, it will create a new thread of execution and call the run() method of the target function we provided when creating the thread. This method allows us to initiate the concurrent execution of the code defined in the target function.\n",
    "\n",
    "join(): The join() method is used to wait for a thread to complete its execution. When we call the join() method on a Thread object, the calling thread (usually the main thread) will pause and wait for the specified thread to finish before it continues execution. This is useful when we want to ensure that all threads have completed before the main program terminates or proceeds.\n",
    "\n",
    "isAlive(): The isAlive() method is used to check whether a thread is currently active or running. It returns True if the thread is currently executing its target function and has not yet completed, and False otherwise."
   ]
  },
  {
   "cell_type": "code",
   "execution_count": 5,
   "id": "ffdfbc9a-5e93-468f-971a-3842bc377bdf",
   "metadata": {},
   "outputs": [
    {
     "name": "stdout",
     "output_type": "stream",
     "text": [
      "thread is running\n"
     ]
    }
   ],
   "source": [
    "'''Example of Q3(run())'''\n",
    "import threading   #we importing the module used in multithreading\n",
    "\n",
    "def My_function():\n",
    "    print(\"thread is running\")\n",
    "\n",
    "My_thread=threading.Thread(target=My_function)\n",
    "My_thread.start() #this will call the run method of My_function"
   ]
  },
  {
   "cell_type": "code",
   "execution_count": 6,
   "id": "97ee0368-7554-43d5-86b1-8c6a9c836a91",
   "metadata": {},
   "outputs": [
    {
     "name": "stdout",
     "output_type": "stream",
     "text": [
      "thread is running\n"
     ]
    }
   ],
   "source": [
    "'''Example of Q3(start())'''\n",
    "\n",
    "import threading\n",
    "def My_function():\n",
    "    print(\"thread is running\")\n",
    "\n",
    "My_thread=threading.Thread(target=My_function)\n",
    "My_thread.start() #this starts the execution of the thread\n"
   ]
  },
  {
   "cell_type": "code",
   "execution_count": 8,
   "id": "f2c34bca-228d-4110-9553-c300fcb28415",
   "metadata": {},
   "outputs": [
    {
     "name": "stdout",
     "output_type": "stream",
     "text": [
      "thread is running\n"
     ]
    }
   ],
   "source": [
    "'''Example of Q3(join())'''\n",
    "import threading\n",
    "\n",
    "def My_function():\n",
    "    print(\"thread is running\")\n",
    "\n",
    "My_thread=threading.Thread(target=My_function)\n",
    "My_thread.start() #this starts the execution of the thread\n",
    "\n",
    "My_thread.join() #waits for my_thread to finish before continuing\n",
    "\n",
    "\n"
   ]
  },
  {
   "cell_type": "code",
   "execution_count": null,
   "id": "c7e1ce04-8671-4e7c-859b-3b242bd4f000",
   "metadata": {},
   "outputs": [],
   "source": [
    "import threading\n",
    "import time\n",
    "\n",
    "def my_function():\n",
    "    time.sleep(2)\n",
    "\n",
    "my_thread = threading.Thread(target=my_function)\n",
    "my_thread.start()  # Starts the execution of the thread\n",
    "\n",
    "print(\"Thread is alive:\", my_thread.isAlive())  # Will likely print True\n",
    "\n",
    "my_thread.join()   # Waits for my_thread to finish\n",
    "print(\"Thread is alive:\", my_thread.isAlive())  # Will print False\n"
   ]
  },
  {
   "cell_type": "markdown",
   "id": "7aa5c48d-98cc-4bfd-96f9-1a29d86996b5",
   "metadata": {},
   "source": [
    "4.Write a python program to create two threads. Thread one must print the list of squares and thread two must print the list of cubes"
   ]
  },
  {
   "cell_type": "code",
   "execution_count": 1,
   "id": "81137124-2f42-419c-adb6-ec1d48c1eb75",
   "metadata": {},
   "outputs": [
    {
     "name": "stdout",
     "output_type": "stream",
     "text": [
      "List of Squares: [1, 4, 9, 16, 25, 36, 49, 64, 81, 100]\n",
      "List of Cubes: [1, 8, 27, 64, 125, 216, 343, 512, 729, 1000]\n"
     ]
    }
   ],
   "source": [
    "'''Program for Quetion(4)'''\n",
    "import threading\n",
    "\n",
    "def calculate_squares(numbers, result_squares):\n",
    "    for num in numbers:\n",
    "        square = num ** 2\n",
    "        result_squares.append(square)   \n",
    "\n",
    "def calculate_cubes(numbers, result_cubes):\n",
    "    for num in numbers:\n",
    "        cube = num ** 3\n",
    "        result_cubes.append(cube)\n",
    "\n",
    "\n",
    "numbers = list(range(1,11))\n",
    "result_squares = []\n",
    "result_cubes = []\n",
    "\n",
    "thread1 = threading.Thread(target=calculate_squares, args=(numbers, result_squares))\n",
    "thread2 = threading.Thread(target=calculate_cubes, args=(numbers, result_cubes))\n",
    "\n",
    "thread1.start()\n",
    "thread2.start()\n",
    "\n",
    "print(\"List of Squares:\", result_squares)\n",
    "print(\"List of Cubes:\", result_cubes)\n"
   ]
  },
  {
   "cell_type": "markdown",
   "id": "c4892991-5699-4efb-ab8a-77b0859ab57a",
   "metadata": {},
   "source": [
    "Q5. State advantages and disadvantages of multithreading\n",
    "\n",
    "Ans-\n",
    "Multithreading is a programming concept that involves executing multiple threads (smaller units of a process) within a single process. Each thread shares the same resources of the process, such as memory and file handles, but runs independently. \n",
    "\n",
    "advantages and disadvantages of multithreading:\n",
    "\n",
    "Advantages:\n",
    "\n",
    "Improved Performance: Multithreading can lead to improved performance on multi-core processors or systems with multiple processors. Different threads can be executed concurrently, making better use of available CPU resources.\n",
    "\n",
    "Responsiveness: Multithreading can enhance the responsiveness of applications. For example, in graphical user interfaces, the user interface thread can remain responsive while background tasks are executed in separate threads.\n",
    "\n",
    "Resource Sharing: Threads within the same process can easily share resources like memory, which can lead to more efficient communication between different components of an application.\n",
    "\n",
    "Parallelism: Multithreading enables concurrent execution of tasks, which is especially useful for applications that perform tasks in parallel, such as simulations or data processing.\n",
    "\n",
    "Disadvantages:\n",
    "\n",
    "Complexity: Multithreading introduces complexity to the code. Managing thread synchronization, avoiding race conditions, and ensuring thread safety can be challenging and error-prone.\n",
    "\n",
    "Overhead: Creating and managing threads incurs overhead in terms of memory and CPU usage. Additionally, the switching between threads consumes some processing time, reducing the overall efficiency gained from parallelism.\n",
    "\n",
    "Debugging and Testing: Identifying and fixing issues in multithreaded code can be challenging. Bugs might not always be reproducible consistently, making debugging and testing more complex.\n",
    "\n",
    "Thread Safety: Ensuring thread safety and proper synchronization mechanisms requires careful design and implementation. Neglecting thread safety can lead to data corruption and unpredictable behavior.\n",
    "\n",
    "Scalability: While multithreading can improve performance on systems with multiple cores or processors, there might be limitations to how much the application can be scaled due to factors like contention for shared resources.\n"
   ]
  },
  {
   "cell_type": "markdown",
   "id": "09cad620-a4a6-40c1-8e55-d01e7b7ec0f5",
   "metadata": {},
   "source": [
    "6. Explain deadlocks and race conditions.\n",
    "\n",
    "Deadlocks:\n",
    "\n",
    "A deadlock is a situation in concurrent programming where two or more threads (or processes) are unable to proceed because each is waiting for a resource that the other holds. In other words, a deadlock occurs when two or more threads become stuck in a cycle of waiting for resources that will never be released, preventing any of them from making progress.\n",
    "\n",
    "necessary conditions for a deadlock to occur:\n",
    "\n",
    "Mutual Exclusion: At least one resource must be held in a non-sharable mode, preventing multiple threads from accessing it simultaneously.\n",
    "\n",
    "Hold and Wait: A thread must hold at least one resource and be waiting to acquire additional resources that are held by other threads.\n",
    "\n",
    "No Preemption: Resources cannot be forcibly taken away from threads; they must be released voluntarily by the holding thread.\n",
    "\n",
    "Circular Wait: A circular chain of two or more threads, where each thread is waiting for a resource held by the next thread in the chain.\n",
    "\n",
    "\n",
    "Race Conditions:\n",
    "\n",
    "A race condition is a situation in concurrent programming where the behavior of a program depends on the timing of events, particularly when multiple threads or processes access shared resources concurrently. In other words, the final outcome of the program is uncertain and may vary depending on the order in which threads execute.\n",
    "\n",
    "Race conditions occur when multiple threads access shared resources (such as variables, memory locations, or files) simultaneously without proper synchronization. The behavior of the program becomes unpredictable because the order of execution can lead to different results. Race conditions can manifest in various ways, including incorrect calculations, data corruption, or unexpected program crashes.\n"
   ]
  }
 ],
 "metadata": {
  "kernelspec": {
   "display_name": "Python 3 (ipykernel)",
   "language": "python",
   "name": "python3"
  },
  "language_info": {
   "codemirror_mode": {
    "name": "ipython",
    "version": 3
   },
   "file_extension": ".py",
   "mimetype": "text/x-python",
   "name": "python",
   "nbconvert_exporter": "python",
   "pygments_lexer": "ipython3",
   "version": "3.10.8"
  },
  "toc-showmarkdowntxt": true
 },
 "nbformat": 4,
 "nbformat_minor": 5
}
