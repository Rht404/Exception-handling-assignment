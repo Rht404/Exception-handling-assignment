{
 "cells": [
  {
   "cell_type": "markdown",
   "id": "8f53bb05-69db-4d27-b2bc-fbba39d3d2ba",
   "metadata": {},
   "source": [
    "Q1. What is multiprocessing in python? Why is it useful?\n",
    "\n",
    "Ans-Multiprocessing in Python refers to the capability of the Python programming language to create and manage multiple processes concurrently. A process is an independent unit of execution that runs its own code and has its own memory space. Python's multiprocessing module provides a way to leverage multiple CPU cores and execute tasks in parallel, thereby improving the overall performance and efficiency of certain types of applications.\n",
    "\n",
    "Key points about multiprocessing in Python and its usefulness:\n",
    "\n",
    "Parallel Execution:\n",
    "With multiprocessing, we can run multiple processes simultaneously, each handling a different task or set of tasks. This is particularly beneficial for CPU-bound tasks, where the performance gain comes from utilizing multiple cores to complete tasks faster.\n",
    "\n",
    "Improved Performance:\n",
    "Instead of executing tasks sequentially, multiprocessing allows us to distribute the workload across multiple processes, taking advantage of modern multi-core CPUs. This can significantly speed up the execution of certain tasks.\n",
    "\n",
    "Separate Memory Space: \n",
    "Each process has its own memory space, which means they don't share data unless explicitly communicated. This separation can help avoid issues related to concurrent access and modification of shared data, often encountered in multithreaded programming.\n",
    "\n",
    "Isolation and Stability: \n",
    "Since processes operate in separate memory spaces, they are more isolated from each other. If one process crashes or experiences issues, it generally won't affect other processes.\n",
    "\n",
    "Distributed Computing: \n",
    "Multiprocessing can be used for distributed computing scenarios, where tasks are distributed across multiple machines, each running their own processes.\n",
    "\n",
    "I/O Bound vs. CPU Bound: \n",
    "While multiprocessing is well-suited for CPU-bound tasks (tasks that require significant computation), it might not always provide significant benefits for I/O-bound tasks (tasks that spend a lot of time waiting for input/output operations).\n",
    "\n"
   ]
  },
  {
   "cell_type": "markdown",
   "id": "daaf8422-eb13-4db3-8c69-06189ecc3cde",
   "metadata": {},
   "source": [
    "Q2. What are the differences between multiprocessing and multithreading?\n",
    "\n",
    "Multiprocessing and multithreading are both techniques used to achieve concurrency in a program, allowing it to perform multiple tasks concurrently. However, they differ in how they achieve this concurrency and the scenarios where they are most effective.\n",
    "\n",
    "differences between multiprocessing and multithreading:\n",
    "\n",
    "Basic Unit of Execution:\n",
    "Multiprocessing:  In multiprocessing, each process has its own memory space and Python interpreter. Processes are independent entities and do not share memory by default. They are suitable for CPU-bound tasks.\n",
    "\n",
    "Multithreading:   In multithreading, multiple threads within a single process share the same memory space and Python interpreter. Threads are lighter-weight than processes and are suitable for I/O-bound tasks.\n",
    "\n",
    "Concurrency Model:\n",
    "Multiprocessing:  Processes run independently and can execute truly concurrently on multi-core CPUs, as they bypass the Global Interpreter Lock (GIL) in Python. Each process has its own GIL, which means they can execute Python code in parallel.\n",
    "\n",
    "Multithreading:   Threads run within the same process and share the same GIL. While multiple threads can exist, the GIL restricts only one thread from executing Python code at a time.This makes multithreading less efficient for CPU-bound tasks, as they do not achieve true parallelism due to the GIL.\n",
    "\n",
    "Memory Isolation:\n",
    "Multiprocessing:  Processes have separate memory spaces, which can prevent issues related to shared data and concurrency. Inter-process communication mechanisms like pipes, queues, and shared memory are used to exchange data.\n",
    "\n",
    "Multithreading:   Threads share the same memory space, which can lead to concurrency issues like race conditions and data corruption. Proper synchronization mechanisms like locks and semaphores are needed to ensure data consistency.\n",
    "\n",
    "Complexity and Overhead:\n",
    "Multiprocessing:  Due to separate memory spaces, processes generally have higher overhead in terms of memory and communication compared to threads. Creating processes is also more resource-intensive.\n",
    "\n",
    "Multithreading:   Threads have lower overhead compared to processes, as they share memory and resources within the same process. However, managing synchronization and avoiding race conditions can introduce complexity.\n",
    "\n",
    "Scalability and Use Cases:\n",
    "Multiprocessing:  Ideal for CPU-bound tasks that can be parallelized, such as heavy calculations and data processing tasks. Also suitable for taking advantage of multi-core CPUs for parallel execution.\n",
    "\n",
    "Multithreading:   Suitable for I/O-bound tasks where threads can wait for I/O operations to complete without blocking the entire process. Examples include networking, file I/O, and web scraping."
   ]
  },
  {
   "cell_type": "code",
   "execution_count": 7,
   "id": "e05a80e2-2c6f-4e96-8bed-7dbdc58028ea",
   "metadata": {},
   "outputs": [
    {
     "name": "stdout",
     "output_type": "stream",
     "text": [
      "Worker 0 started\n",
      "Worker 1 started\n",
      "Worker 2 started\n",
      "Worker 0 finished\n",
      "Worker 1 finished\n",
      "Worker 2 finished\n",
      "All processes have finished\n"
     ]
    }
   ],
   "source": [
    "'''Q3. Write a python code to create a process using the multiprocessing module.'''\n",
    "\n",
    "import multiprocessing\n",
    "import time\n",
    "\n",
    "def worker_function(name):\n",
    "    print(f\"Worker {name} started\")\n",
    "    time.sleep(2)  # Simulate some work\n",
    "    print(f\"Worker {name} finished\")\n",
    "\n",
    "if __name__ == \"__main__\":\n",
    "    num_processes = 3\n",
    "\n",
    "    processes = []\n",
    "    for i in range(num_processes):\n",
    "        process = multiprocessing.Process(target=worker_function, args=(i,))\n",
    "        processes.append(process)\n",
    "        process.start()\n",
    "\n",
    "    for process in processes:\n",
    "        process.join()\n",
    "\n",
    "    print(\"All processes have finished\")\n"
   ]
  },
  {
   "cell_type": "markdown",
   "id": "5860841d-78b0-4209-a4d0-2e576274615e",
   "metadata": {},
   "source": [
    "Q4. What is a multiprocessing pool in python? Why is it used?\n",
    "A multiprocessing pool in Python refers to a high-level abstraction provided by the multiprocessing module that allows us to easily parallelize and distribute the execution of a function across multiple processes. It's a way to take advantage of multiple CPU cores available on a machine to speed up computation-intensive tasks or to perform tasks concurrently.\n",
    "\n",
    "In a multiprocessing pool, a group of worker processes is created, and a set of tasks is distributed among these processes for execution. The pool manages the creation and management of these processes, making it easier for us to work with parallelism without having to manage the details of process creation and communication ourself.\n",
    "\n",
    "This is how a multiprocessing pool works:\n",
    "\n",
    "1.We create a pool object using the multiprocessing.Pool constructor, specifying the number of worker processes we want to utilize.\n",
    "2.We submit tasks to the pool by calling the apply_async method or similar methods, passing the function we want to execute in parallel and its arguments.\n",
    "3.The pool distributes these tasks among the worker processes. Each worker process executes the function with the provided arguments independently.\n",
    "4.As the tasks are completed, their results are collected and returned to the main program.\n",
    "\n",
    "Using a multiprocessing pool can significantly speed up tasks that can be parallelized, such as tasks that involve heavy computation, data processing, or I/O-bound operations. It's particularly useful in scenarios where we have a multi-core CPU and want to leverage the available processing power to reduce the overall execution time of our program.\n",
    "\n",
    "However, it's worth noting that while multiprocessing can provide performance improvements, it also introduces complexities related to process synchronization, data sharing, and potential overhead. Therefore, it's essential to consider the nature of your tasks and carefully design your code to avoid potential pitfalls such as race conditions, deadlocks, and excessive memory consumption.\n",
    "\n"
   ]
  },
  {
   "cell_type": "code",
   "execution_count": 8,
   "id": "2d41e97b-97b7-41f4-a117-5e5650b758be",
   "metadata": {},
   "outputs": [
    {
     "name": "stdout",
     "output_type": "stream",
     "text": [
      "[1, 8, 27, 64, 125, 216, 343, 512, 729, 1000]\n"
     ]
    }
   ],
   "source": [
    "'''Examplpe of Q4'''\n",
    "import multiprocessing      #tast done by pool in multiprocessing\n",
    "\n",
    "def cube(n):\n",
    "    return n**3\n",
    "\n",
    "if __name__=='__main__':\n",
    "    with multiprocessing.Pool(processes=4)as pool:\n",
    "        result= pool.map(cube,list( range(1,11)))\n",
    "        print(result)"
   ]
  },
  {
   "cell_type": "code",
   "execution_count": 23,
   "id": "d2c3d754-aef6-4136-8b3b-7c035f980624",
   "metadata": {},
   "outputs": [
    {
     "name": "stdout",
     "output_type": "stream",
     "text": [
      "[[2], [4], [6], [8], [10]]\n"
     ]
    }
   ],
   "source": [
    "'''Q5. How can we create a pool of worker processes in python using the multiprocessing module?'''\n",
    "#This is how we can get it done\n",
    "import multiprocessing     \n",
    "\n",
    "def worker_function(n):   #defining the function\n",
    "    result = n * 2\n",
    "    return result\n",
    "\n",
    "if __name__ == '__main__':\n",
    "    with multiprocessing.Pool(processes=4) as pool:   #task is done by pool in multiprocessing\n",
    "        \n",
    "        \n",
    "        results =[pool.map(worker_function, (n,)) for n in range(1,6)]\n",
    "        print(results)\n",
    "\n",
    "        pool.close()\n",
    "        pool.join()\n",
    "\n"
   ]
  },
  {
   "cell_type": "code",
   "execution_count": 26,
   "id": "76fe7529-bc70-43fc-998f-c61a6a91afab",
   "metadata": {},
   "outputs": [
    {
     "name": "stdout",
     "output_type": "stream",
     "text": [
      "Process  ForkPoolWorker-47 prints:1 "\n"  Process ForkPoolWorker-50 prints:2 "\n"  Process ForkPoolWorker-49 prints:3 "\n"  Process ForkPoolWorker-48 prints:4    \n",
      "\n",
      "\n",
      "\n",
      "\n",
      "\n",
      "\n",
      "\n"
     ]
    }
   ],
   "source": [
    "'''Q6.Write a python program to create 4 processes, each process should print a different number using the\n",
    "multiprocessing module in python.'''\n",
    "import multiprocessing\n",
    "\n",
    "def print_number(number):\n",
    "    print(f\"Process {multiprocessing.current_process().name} prints:, number,)\n",
    "    \n",
    "\n",
    "if __name__ == '__main__':\n",
    "    num_processes = 4\n",
    "    pool = multiprocessing.Pool(processes=num_processes)\n",
    "    \n",
    "    numbers = [1, 2, 3, 4]\n",
    "    pool.map(print_number, numbers)\n",
    "    \n",
    "    pool.close()\n",
    "    pool.join()\n",
    "\n",
    "\n"
   ]
  },
  {
   "cell_type": "code",
   "execution_count": null,
   "id": "acbda1c4-dd2b-4bc7-b8a5-31e88685b9f0",
   "metadata": {},
   "outputs": [],
   "source": []
  }
 ],
 "metadata": {
  "kernelspec": {
   "display_name": "Python 3 (ipykernel)",
   "language": "python",
   "name": "python3"
  },
  "language_info": {
   "codemirror_mode": {
    "name": "ipython",
    "version": 3
   },
   "file_extension": ".py",
   "mimetype": "text/x-python",
   "name": "python",
   "nbconvert_exporter": "python",
   "pygments_lexer": "ipython3",
   "version": "3.10.8"
  },
  "toc-autonumbering": true,
  "toc-showcode": true
 },
 "nbformat": 4,
 "nbformat_minor": 5
}
